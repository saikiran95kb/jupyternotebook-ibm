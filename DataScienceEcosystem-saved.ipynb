{
 "cells": [
  {
   "cell_type": "markdown",
   "id": "b5f267bb-d1f8-4b28-920d-2027bb545702",
   "metadata": {},
   "source": [
    "# Data Science Tools and Ecosystem"
   ]
  },
  {
   "cell_type": "markdown",
   "id": "027b9eb5-af19-4f30-a756-7b22fd61ae66",
   "metadata": {},
   "source": [
    "In this notebook, Data Science Tools and Ecosystem are summarized."
   ]
  },
  {
   "cell_type": "markdown",
   "id": "dca5ca14-f07d-4f47-abc9-19c92e399fb8",
   "metadata": {},
   "source": [
    "Objectives:\n",
    "- List popular languages for Data Science\n",
    "- List commonly used libraries used by Data Scientists\n",
    "- List data science open source tools\n",
    "- Introduce arithmetic expression examples"
   ]
  },
  {
   "cell_type": "markdown",
   "id": "e58a114a-c2b0-445a-89c7-cf8371179acb",
   "metadata": {},
   "source": [
    "Some of the popular languages that Data Scientists use are:\n",
    "1. Python\n",
    "2. R\n",
    "3. Java\n",
    "4. SQL"
   ]
  },
  {
   "cell_type": "markdown",
   "id": "c4ee955b-efcd-42d1-95dd-a8bd2e92cedb",
   "metadata": {},
   "source": [
    "Some of the commonly used libraries used by Data Scientists include:\n",
    "1. Numpy\n",
    "2. Scipy\n",
    "3. Matplotlib\n",
    "4. Pandas\n"
   ]
  },
  {
   "cell_type": "markdown",
   "id": "3e70a167-e931-45a7-9e39-7f43d2347184",
   "metadata": {},
   "source": [
    "| Data Science Tools | \n",
    "| -------------| \n",
    "| TensorFlow | \n",
    "| Apache Spark | \n",
    "| Apache Hadoop | "
   ]
  },
  {
   "cell_type": "markdown",
   "id": "9e5257dd-b331-41fb-96f4-e8e839fe60d4",
   "metadata": {},
   "source": [
    "### Below are a few examples of evaluating arithmetic expressions in Python\n"
   ]
  },
  {
   "cell_type": "code",
   "execution_count": 11,
   "id": "94d95add-b688-4cd3-8106-c4a0ca277b74",
   "metadata": {},
   "outputs": [
    {
     "data": {
      "text/plain": [
       "17"
      ]
     },
     "execution_count": 11,
     "metadata": {},
     "output_type": "execute_result"
    }
   ],
   "source": [
    "(3*4)+5\n",
    "# This a simple arithmetic expression to mutiply then add integers"
   ]
  },
  {
   "cell_type": "code",
   "execution_count": 15,
   "id": "383fc57c-528c-444e-be85-791329acf6f5",
   "metadata": {},
   "outputs": [
    {
     "name": "stdout",
     "output_type": "stream",
     "text": [
      "3.3333333333333335\n"
     ]
    }
   ],
   "source": [
    "min = 200\n",
    "hours = 200/60\n",
    "print(hours)\n",
    "# This will convert 200 minutes to hours by diving by 60"
   ]
  },
  {
   "cell_type": "markdown",
   "id": "ee54ee2e-e8e3-4286-966b-9a38927fc500",
   "metadata": {},
   "source": [
    "## Author: Saikiran Kotaru"
   ]
  },
  {
   "cell_type": "code",
   "execution_count": null,
   "id": "715b11ff-3555-4b42-a6bf-a314be0e13f8",
   "metadata": {},
   "outputs": [],
   "source": []
  }
 ],
 "metadata": {
  "kernelspec": {
   "display_name": "Python [conda env:base] *",
   "language": "python",
   "name": "conda-base-py"
  },
  "language_info": {
   "codemirror_mode": {
    "name": "ipython",
    "version": 3
   },
   "file_extension": ".py",
   "mimetype": "text/x-python",
   "name": "python",
   "nbconvert_exporter": "python",
   "pygments_lexer": "ipython3",
   "version": "3.12.7"
  }
 },
 "nbformat": 4,
 "nbformat_minor": 5
}
